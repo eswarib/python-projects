{
 "cells": [
  {
   "cell_type": "code",
   "execution_count": 21,
   "metadata": {},
   "outputs": [
    {
     "name": "stdout",
     "output_type": "stream",
     "text": [
      "    UserID                       Signup Date User Segment\n",
      "0  U133159  2018-04-14 07:01:16.202607+00:00            C\n",
      "1  U129368  2017-12-02 09:38:41.584270+00:00            B\n",
      "2  U109654         2013-03-19 11:38:55+00:00            B\n",
      "3  U108998  2018-01-18 08:29:51.627954+00:00            C\n",
      "4  U131393  2018-03-27 08:05:28.806800+00:00            B\n",
      "5  U101889  2018-01-24 12:50:00.225811+00:00            B\n",
      "6  U113233  2017-03-18 09:27:53.079335+00:00            B\n",
      "7  U115728  2017-08-18 11:40:29.685549+00:00            B\n",
      "8  U132899  2018-03-14 08:32:32.906136+00:00            B\n",
      "9  U107492  2018-04-10 20:42:50.794037+00:00            B\n",
      "No of entries in user data including NaN values (34050, 3)\n",
      "No of entries after removing NA elements : (34050, 3)\n"
     ]
    }
   ],
   "source": [
    "import pandas as ps\n",
    "usr_file = '/Users/eswari/Downloads/data/userTable.csv'\n",
    "visitor_logfile = '/Users/eswari/Downloads/data/VisitorLogsData.csv'\n",
    "\n",
    "usr_data=ps.read_csv(usr_file)\n",
    "browse_data = ps.read_csv(visitor_logfile)\n",
    "\n",
    "#usr_data.head(50)\n",
    "#browse_data.head(50)\n",
    "\n",
    "print(usr_data.head(10))\n",
    "\n",
    "#first let us clean up the data\n",
    "#missing values\n",
    "#different format of datetime\n",
    "#handle text values in different cases\n",
    "\n",
    "usr_data['Signup Date'] = ps.to_datetime(usr_data['Signup Date']).dt.strftime('%Y-%m-%d %H:%M:%S')\n",
    "\n",
    "print(f\"No of entries in user data including NaN values {usr_data.shape}\")\n",
    "#lets drop rows containing non-NA values\n",
    "usr_data.dropna(axis=0,how='any',inplace=True)\n",
    "print(f\"No of entries after removing NA elements : {usr_data.shape}\")\n",
    "\n",
    "#let's make the text values to one case\n",
    "usr_data['User Segment'] = usr_data['User Segment'].str.upper()\n",
    "\n",
    "#lets clean up browsing data\n",
    "print(f\"No of entries in browse data including NaN values {usr_data.shape}\")\n",
    "\n"
   ]
  },
  {
   "cell_type": "code",
   "execution_count": 16,
   "metadata": {},
   "outputs": [
    {
     "data": {
      "text/plain": [
       "['__add__',\n",
       " '__class__',\n",
       " '__contains__',\n",
       " '__delattr__',\n",
       " '__dir__',\n",
       " '__doc__',\n",
       " '__eq__',\n",
       " '__format__',\n",
       " '__ge__',\n",
       " '__getattribute__',\n",
       " '__getitem__',\n",
       " '__getnewargs__',\n",
       " '__gt__',\n",
       " '__hash__',\n",
       " '__init__',\n",
       " '__init_subclass__',\n",
       " '__iter__',\n",
       " '__le__',\n",
       " '__len__',\n",
       " '__lt__',\n",
       " '__mod__',\n",
       " '__mul__',\n",
       " '__ne__',\n",
       " '__new__',\n",
       " '__reduce__',\n",
       " '__reduce_ex__',\n",
       " '__repr__',\n",
       " '__rmod__',\n",
       " '__rmul__',\n",
       " '__setattr__',\n",
       " '__sizeof__',\n",
       " '__str__',\n",
       " '__subclasshook__',\n",
       " 'capitalize',\n",
       " 'casefold',\n",
       " 'center',\n",
       " 'count',\n",
       " 'encode',\n",
       " 'endswith',\n",
       " 'expandtabs',\n",
       " 'find',\n",
       " 'format',\n",
       " 'format_map',\n",
       " 'index',\n",
       " 'isalnum',\n",
       " 'isalpha',\n",
       " 'isascii',\n",
       " 'isdecimal',\n",
       " 'isdigit',\n",
       " 'isidentifier',\n",
       " 'islower',\n",
       " 'isnumeric',\n",
       " 'isprintable',\n",
       " 'isspace',\n",
       " 'istitle',\n",
       " 'isupper',\n",
       " 'join',\n",
       " 'ljust',\n",
       " 'lower',\n",
       " 'lstrip',\n",
       " 'maketrans',\n",
       " 'partition',\n",
       " 'replace',\n",
       " 'rfind',\n",
       " 'rindex',\n",
       " 'rjust',\n",
       " 'rpartition',\n",
       " 'rsplit',\n",
       " 'rstrip',\n",
       " 'split',\n",
       " 'splitlines',\n",
       " 'startswith',\n",
       " 'strip',\n",
       " 'swapcase',\n",
       " 'title',\n",
       " 'translate',\n",
       " 'upper',\n",
       " 'zfill']"
      ]
     },
     "execution_count": 16,
     "metadata": {},
     "output_type": "execute_result"
    }
   ],
   "source": [
    "import pandas\n",
    "dir(str)"
   ]
  },
  {
   "cell_type": "code",
   "execution_count": null,
   "metadata": {},
   "outputs": [],
   "source": []
  }
 ],
 "metadata": {
  "kernelspec": {
   "display_name": "Python 3",
   "language": "python",
   "name": "python3"
  },
  "language_info": {
   "codemirror_mode": {
    "name": "ipython",
    "version": 3
   },
   "file_extension": ".py",
   "mimetype": "text/x-python",
   "name": "python",
   "nbconvert_exporter": "python",
   "pygments_lexer": "ipython3",
   "version": "3.8.5"
  }
 },
 "nbformat": 4,
 "nbformat_minor": 4
}
